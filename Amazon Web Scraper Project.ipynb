{
 "cells": [
  {
   "cell_type": "code",
   "execution_count": 1,
   "id": "8e1c3448-0d49-4170-8896-74170ed3b4dc",
   "metadata": {},
   "outputs": [],
   "source": [
    "\n",
    "from bs4 import BeautifulSoup\n",
    "import requests\n",
    "import time\n",
    "import datetime\n",
    "\n",
    "import smtplib"
   ]
  },
  {
   "cell_type": "code",
   "execution_count": 2,
   "id": "9811dba6-c83a-46fb-bcd9-43dd4f9bb618",
   "metadata": {},
   "outputs": [
    {
     "name": "stdout",
     "output_type": "stream",
     "text": [
      "In Your Shoe Mens #BLK-SPRTEE T Shirt, Black, XL\n",
      "EGP 449.00\n"
     ]
    }
   ],
   "source": [
    "# Connect to Website and pull in data\n",
    "\n",
    "URL = 'https://www.amazon.eg/-/en/Your-Shoe-BLK-SPRTEE-Shirt-XL/dp/B0CBHQ81MH/ref=sr_1_9?crid=ELWKP5YJHG67&dib=eyJ2IjoiMSJ9.wb8Z5jkohZWI-FO3ZcXqKPCCJ94mGlC2_ADvdPxrllD8Hg6CXMr-9sErM2Jx7nTod41EEN1eBnPa8SXQT-IrUK0_m1kiLyZaaAE6zkCCppsTBeyOJAnRlEpthmdrpvMiQonaFNHXNmhmIvQDFcaKI2jSAhlEt8SgChILl3NudR4SgUGKj8ekzgnp0SBamw8_HwnLI0OqDHW74HobbgiElBuOMrwxnX_hEwyZuLPo1zuKSBPlBxW4YVMNErKFYJtu3mnDLMWg3pLUseRZAm5NyRjpZPcIVWR99Any3eOOGZQ._jHnV-au45I6tx9qkvZ69G7RkWJpRw0StK4fVvM1nG4&dib_tag=se&keywords=data+%2B+analyst+%2B+t-shirt&qid=1725079608&sprefix=data+analyst+t-shirt%2Caps%2C156&sr=8-9'\n",
    "\n",
    "headers = { \"User-Agent\": \"Mozilla/5.0 (Windows NT 10.0; Win64; x64) AppleWebKit/537.36 (KHTML, like Gecko) Chrome/128.0.0.0 Safari/537.36\" , \"Accept-Encoding\": \"gzip, deflate, br, zstd\", \"Accept\": \"text/html,application/xhtml+xml,application/xml;q=0.9,image/avif,image/webp,image/apng,*/*;q=0.8,application/signed-exchange;v=b3;q=0.7\" , \"DNT\":\"1\",\"Connection\":\"close\",\"Upgrade-Insecure-Requests\": \"1\"}\n",
    "\n",
    "page = requests.get(URL, headers=headers)\n",
    "\n",
    "soup1 = BeautifulSoup(page.content, \"html.parser\")\n",
    "\n",
    "soup2 = BeautifulSoup(soup1.prettify(), \"html.parser\")\n",
    "\n",
    "title = soup2.find(id='productTitle').get_text().strip()\n",
    "\n",
    "price = soup2.find(class_='priceToPay').get_text().strip()\n",
    "\n",
    "price = price.replace(\"\\n\", \"\").replace(\" \", \"\").replace(\"EGP\", \"EGP \").strip()\n",
    "\n",
    "print(title)\n",
    "print(price)\n"
   ]
  },
  {
   "cell_type": "code",
   "execution_count": 3,
   "id": "5051351f-584c-4681-bd83-aa943a83be9a",
   "metadata": {},
   "outputs": [],
   "source": [
    "import csv \n",
    "from datetime import date\n",
    "\n",
    "header = ['Title', 'Price', 'Date']\n",
    "data = [title, price, date.today()]\n",
    "\n",
    "\n",
    "with open('AmazonWebScraperDataset.csv', 'w', newline='', encoding='UTF8') as f:\n",
    "    writer = csv.writer(f)\n",
    "    writer.writerow(header)\n",
    "    writer.writerow(data)\n"
   ]
  },
  {
   "cell_type": "code",
   "execution_count": 6,
   "id": "eafabcb4-3d5f-415a-9a30-731304c9b8ff",
   "metadata": {},
   "outputs": [],
   "source": []
  },
  {
   "cell_type": "code",
   "execution_count": null,
   "id": "fe3ddcee-7c30-4e62-b42e-ddb1a062c8ca",
   "metadata": {
    "scrolled": true
   },
   "outputs": [],
   "source": []
  },
  {
   "cell_type": "code",
   "execution_count": null,
   "id": "3cb2765a-3ec3-494b-8d91-dddba87617aa",
   "metadata": {},
   "outputs": [],
   "source": []
  }
 ],
 "metadata": {
  "kernelspec": {
   "display_name": "Python 3 (ipykernel)",
   "language": "python",
   "name": "python3"
  },
  "language_info": {
   "codemirror_mode": {
    "name": "ipython",
    "version": 3
   },
   "file_extension": ".py",
   "mimetype": "text/x-python",
   "name": "python",
   "nbconvert_exporter": "python",
   "pygments_lexer": "ipython3",
   "version": "3.12.4"
  }
 },
 "nbformat": 4,
 "nbformat_minor": 5
}
